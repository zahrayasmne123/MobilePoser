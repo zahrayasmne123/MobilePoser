{
  "cells": [
    {
      "cell_type": "markdown",
      "metadata": {
        "id": "view-in-github",
        "colab_type": "text"
      },
      "source": [
        "<a href=\"https://colab.research.google.com/github/zahrayasmne123/MobilePoser/blob/colab/Untitled2.ipynb\" target=\"_parent\"><img src=\"https://colab.research.google.com/assets/colab-badge.svg\" alt=\"Open In Colab\"/></a>"
      ]
    },
    {
      "cell_type": "code",
      "execution_count": null,
      "metadata": {
        "id": "qdGiMmIod5g8"
      },
      "outputs": [],
      "source": [
        "from google.colab import drive\n",
        "drive.mount('/content/drive')\n",
        "\n",
        "!nvidia-smi\n",
        "\n",
        "import os\n",
        "import torch\n",
        "from pathlib import Path\n",
        "\n",
        "def load_pt_files_recursive(root_dir):\n",
        "    pt_files = {}\n",
        "\n",
        "    # Walk through all directories and subdirectories\n",
        "    for dirpath, dirnames, filenames in os.walk(root_dir):\n",
        "        for filename in filenames:\n",
        "            if filename.endswith('.pt'):\n",
        "                # Get full file path\n",
        "                file_path = os.path.join(dirpath, filename)\n",
        "                try:\n",
        "                    # Load the .pt file\n",
        "                    data = torch.load(file_path)\n",
        "                    # Store with relative path as key\n",
        "                    relative_path = os.path.relpath(file_path, root_dir)\n",
        "                    pt_files[relative_path] = data\n",
        "                    print(f\"Loaded: {relative_path}\")\n",
        "                except Exception as e:\n",
        "                    print(f\"Error loading {file_path}: {str(e)}\")\n",
        "\n",
        "    return pt_files\n",
        "\n",
        "# Load all .pt files from your directory\n",
        "root_dir = '/content/drive/MyDrive/processed_datasets'\n",
        "loaded_data = load_pt_files_recursive(root_dir)\n",
        "\n",
        "\n",
        "!git clone https://github.com/zahrayasmne123/MobilePoser.git\n",
        "%cd MobilePoser"
      ]
    },
    {
      "cell_type": "code",
      "execution_count": null,
      "metadata": {
        "id": "f4vtraFW7G_7"
      },
      "outputs": [],
      "source": [
        "!pwd"
      ]
    },
    {
      "cell_type": "code",
      "execution_count": null,
      "metadata": {
        "id": "FVV8_H7C7Z_-",
        "collapsed": true
      },
      "outputs": [],
      "source": [
        "!pip install -r requirements.txt"
      ]
    },
    {
      "cell_type": "code",
      "source": [
        "!pip install lightning==2.1.2"
      ],
      "metadata": {
        "collapsed": true,
        "id": "r_a1pAVCtY23"
      },
      "execution_count": null,
      "outputs": []
    },
    {
      "cell_type": "code",
      "source": [
        "!pip uninstall -y numpy chumpy\n",
        "!pip install numpy==1.23.5 chumpy==0.70"
      ],
      "metadata": {
        "id": "2qJfUAr7tlKs",
        "collapsed": true
      },
      "execution_count": null,
      "outputs": []
    },
    {
      "cell_type": "code",
      "source": [
        "import os\n",
        "data_folder = \"/content/drive/MyDrive/Personal/processed_datasets\"\n",
        "for file in os.listdir(data_folder):\n",
        "    if file.endswith('.pt'):\n",
        "        print(f\"{file}: {os.path.getsize(os.path.join(data_folder, file))} bytes\")"
      ],
      "metadata": {
        "collapsed": true,
        "id": "eorsNqVi_3A7"
      },
      "execution_count": null,
      "outputs": []
    },
    {
      "cell_type": "code",
      "execution_count": null,
      "metadata": {
        "id": "kmyFaeGAzmw-"
      },
      "outputs": [],
      "source": [
        "!python -m mobileposer.train --fast-dev-run"
      ]
    },
    {
      "cell_type": "code",
      "source": [
        "!python -m mobileposer.train"
      ],
      "metadata": {
        "id": "JXuG6qbkGCgE"
      },
      "execution_count": null,
      "outputs": []
    }
  ],
  "metadata": {
    "accelerator": "GPU",
    "colab": {
      "gpuType": "T4",
      "provenance": [],
      "private_outputs": true,
      "machine_shape": "hm",
      "authorship_tag": "ABX9TyOrwBIjT/o7njVafyqE5R8V",
      "include_colab_link": true
    },
    "kernelspec": {
      "display_name": "Python 3",
      "name": "python3"
    },
    "language_info": {
      "name": "python"
    }
  },
  "nbformat": 4,
  "nbformat_minor": 0
}